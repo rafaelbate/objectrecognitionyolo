{
  "nbformat": 4,
  "nbformat_minor": 0,
  "metadata": {
    "colab": {
      "name": "Untitled",
      "provenance": [],
      "collapsed_sections": []
    },
    "kernelspec": {
      "name": "python3",
      "display_name": "Python 3"
    }
  },
  "cells": [
    {
      "cell_type": "markdown",
      "metadata": {
        "id": "g0GeILKglhak",
        "colab_type": "text"
      },
      "source": [
        "Welcome to YOLODarknet google colab notebook.\n",
        "\n",
        "IMPORTANT NOTE: Before doing anything, enable GPU in \n",
        "Runtime -> Change runtime type -> select GPU."
      ]
    },
    {
      "cell_type": "code",
      "metadata": {
        "id": "qQJOJdC2f0sJ",
        "colab_type": "code",
        "colab": {}
      },
      "source": [
        "### Run this cell to setup everything and compile functions ###\n",
        "\n",
        "# This cell imports the drive library and mounts your Google Drive as a VM local drive. You can access to your Drive files \n",
        "# using this path \"/content/gdrive/My Drive/\"\n",
        "from google.colab import drive\n",
        "drive.mount('/content/gdrive')\n",
        "\n",
        "# Necessary tree package\n",
        "!sudo apt-get install tree\n",
        "!tree /content/gdrive/My\\ Drive/darknet/\n",
        "\n",
        "# We're unzipping the cuDNN files from your Drive folder directly to the VM CUDA folders\n",
        "!tar -xzvf gdrive/My\\ Drive/darknet/cuDNN/cudnn-10.1-linux-x64-v7.6.5.32.tgz -C /usr/local/\n",
        "!chmod a+r /usr/local/cuda/include/cudnn.h\n",
        "# Now we check the version we already installed. Can comment this line on future runs\n",
        "!cat /usr/local/cuda/include/cudnn.h | grep CUDNN_MAJOR -A 2\n",
        "\n",
        "# Clone darknet to environment\n",
        "!git clone https://github.com/kriyeng/darknet/\n",
        "%cd darknet\n",
        "# Check the folder\n",
        "!ls\n",
        "# I have a branch where I have done the changes commented above\n",
        "!git checkout feature/google-colab\n",
        "#Compile Darknet\n",
        "!make\n",
        "#Copies the Darknet compiled version to Google drive\n",
        "!cp ./darknet /content/gdrive/My\\ Drive/darknet/bin/darknet\n",
        "\n",
        "# Define a function to show an image with a certain path\n",
        "def imShow(path):\n",
        "  import cv2\n",
        "  import matplotlib.pyplot as plt\n",
        "  %matplotlib inline\n",
        "\n",
        "  image = cv2.imread(path)\n",
        "  height, width = image.shape[:2]\n",
        "  resized_image = cv2.resize(image,(3*width, 3*height), interpolation = cv2.INTER_CUBIC)\n",
        "\n",
        "  fig = plt.gcf()\n",
        "  fig.set_size_inches(18, 10)\n",
        "  plt.axis(\"off\")\n",
        "  plt.imshow(cv2.cvtColor(resized_image, cv2.COLOR_BGR2RGB))\n",
        "  plt.show()\n",
        "  \n",
        "def upload():\n",
        "  from google.colab import files\n",
        "  uploaded = files.upload() \n",
        "  for name, data in uploaded.items():\n",
        "    with open(name, 'wb') as f:\n",
        "      f.write(data)\n",
        "      print ('saved file', name)\n",
        "def download(path):\n",
        "  from google.colab import files\n",
        "  files.download(path)"
      ],
      "execution_count": 0,
      "outputs": []
    },
    {
      "cell_type": "code",
      "metadata": {
        "id": "x-FcZVTYhLO0",
        "colab_type": "code",
        "colab": {}
      },
      "source": [
        "### Run this cell to train custom models ###\n",
        "# Must previously have moved necessary train files to google drive folders acording to the following execute commands\n",
        "\n",
        "# Train custom models\n",
        "!./darknet detector train \"/content/gdrive/My Drive/darknet/obj.data\" \"/content/gdrive/My Drive/darknet/yolov3.cfg\" \"/content/gdrive/My Drive/darknet/darknet53.conv.74\" -dont_show \n",
        "\n",
        "# Start training at the point where the last runtime finished\n",
        "!./darknet detector train \"/content/gdrive/My Drive/darknet/obj.data\" \"/content/gdrive/My Drive/darknet/yolov3.cfg\" \"/content/gdrive/My Drive/darknet/weights/yolov_last.weights\" -dont_show "
      ],
      "execution_count": 0,
      "outputs": []
    },
    {
      "cell_type": "code",
      "metadata": {
        "id": "aiVftD5PhYtm",
        "colab_type": "code",
        "colab": {}
      },
      "source": [
        "### Run this cell to test models ###\n",
        "# Leave either IMAGE module uncommented or VIDEO module uncommented, dont leave both uncommented.\n",
        "\n",
        "# Move necessary detector files to darknet/data folder. Comment this three lines after first execution\n",
        "!cp \"/content/gdrive/My Drive/darknet/backup/yolov3_last.weights\" data/\n",
        "!cp \"/content/gdrive/My Drive/darknet/obj.data\" data/\n",
        "!cp \"/content/gdrive/My Drive/darknet/yolov3.cfg\" data/\n",
        "\n",
        "# Test model (IMAGE)\n",
        "# Move desired test image to darknet/data folder\n",
        "!cp \"/content/gdrive/My Drive/darknet/test/testimage4.jpg\" data/\n",
        "# Command to run the detector\n",
        "!./darknet detector test data/obj.data data/yolov3.cfg data/yolov3_last.weights data/testimage4.jpg -dont_show\n",
        "# Move result image to darknet/results google drive folder\n",
        "!cp predictions.jpg \"/content/gdrive/My Drive/darknet/results/\"\n",
        "# Show result image\n",
        "imShow('predictions.jpg')\n",
        "\n",
        "# Test model (VIDEO)\n",
        "# Move desired test video to darknet/data folder\n",
        "#!cp \"/content/gdrive/My Drive/darknet/test/testvideo.mp4\" data/\n",
        "# Command to run the detector\n",
        "#!./darknet detector demo data/obj.data data/yolov3.cfg data/yolov3_last.weights -dont_show data/testvideo.mp4 -i 0 -out_filename result.avi\n",
        "# Move result video to darknet/results google drive folder\n",
        "#!cp result.avi \"/content/gdrive/My Drive/darknet/results/\""
      ],
      "execution_count": 0,
      "outputs": []
    },
    {
      "cell_type": "code",
      "metadata": {
        "id": "ks1nYK57km1e",
        "colab_type": "code",
        "colab": {}
      },
      "source": [
        "### Just random usefull commands ###\n",
        "\n",
        "# Use this command to stop \"Run all\" routine on this command's line\n",
        "assert False\n",
        "\n",
        "# Get yolov3 weights\n",
        "!wget https://pjreddie.com/media/files/yolov3.weights\n",
        "\n",
        "# CUDA: Let's check that Nvidia CUDA is already pre-installed and which version is it. In some time from now maybe you \n",
        "!/usr/local/cuda/bin/nvcc --version\n",
        "\n",
        "# Symbolic link to google drive paths, replaces a huge path with a certain defined path\n",
        "!ln -s /content/gdrive/My\\ Drive/darknet/ /mydrive\n",
        "!ls /mydrive"
      ],
      "execution_count": 0,
      "outputs": []
    }
  ]
}